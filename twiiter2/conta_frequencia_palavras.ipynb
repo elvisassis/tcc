{
 "cells": [
  {
   "cell_type": "code",
   "execution_count": 1,
   "metadata": {},
   "outputs": [],
   "source": [
    "from nlputils.lexical import Preprocessing\n",
    "from operator import itemgetter\n",
    "from nltk.corpus import stopwords\n",
    "import os"
   ]
  },
  {
   "cell_type": "code",
   "execution_count": 2,
   "metadata": {},
   "outputs": [],
   "source": [
    "pre = Preprocessing()"
   ]
  },
  {
   "cell_type": "code",
   "execution_count": 11,
   "metadata": {},
   "outputs": [],
   "source": [
    "freq = {}"
   ]
  },
  {
   "cell_type": "code",
   "execution_count": 12,
   "metadata": {},
   "outputs": [],
   "source": [
    "datas = ['2019-04-07','2019-04-08','2019-04-09','2019-04-10','2019-04-11','2019-04-12','2019-04-13','2019-04-14','2019-04-15','2019-04-16','2019-04-17','2019-04-18','2019-04-19', '2019-04-20','2019-04-21','2019-04-22','2019-04-23','2019-04-24','2019-04-25']\n",
    "for data in datas:\n",
    "    path = 'data/claro/claro-' + data + '.txt'\n",
    "    if os.path.isfile(path):\n",
    "        with open (path, 'r') as file:\n",
    "                lines = file.readlines()\n",
    "                for line in lines:\n",
    "                    line = pre.remove_acentos(line)\n",
    "                    line = pre.remove_pontuacao(line)\n",
    "                    line = pre.remove_link(line)\n",
    "                    line = pre.text_to_lower(line)\n",
    "                    line = pre.tokenize_words(line)\n",
    "                    line = pre.remove_stopwords(line)\n",
    "                    for word in line:\n",
    "                        if word in freq:\n",
    "                            freq[word] += 1\n",
    "                        else:\n",
    "                            freq[word] = 1"
   ]
  },
  {
   "cell_type": "code",
   "execution_count": 13,
   "metadata": {},
   "outputs": [],
   "source": [
    "freq = sorted(freq.items(), key=itemgetter(1), reverse=True)"
   ]
  },
  {
   "cell_type": "code",
   "execution_count": 14,
   "metadata": {},
   "outputs": [],
   "source": [
    "with open ('data/claro/freq_palavras_claro.txt', 'w') as file_freq:\n",
    "    for result in freq:\n",
    "        file_freq.write(result[0] + ',' + str(result[1]) + '\\n')"
   ]
  },
  {
   "cell_type": "code",
   "execution_count": null,
   "metadata": {},
   "outputs": [],
   "source": []
  }
 ],
 "metadata": {
  "kernelspec": {
   "display_name": "Python 3",
   "language": "python",
   "name": "python3"
  },
  "language_info": {
   "codemirror_mode": {
    "name": "ipython",
    "version": 3
   },
   "file_extension": ".py",
   "mimetype": "text/x-python",
   "name": "python",
   "nbconvert_exporter": "python",
   "pygments_lexer": "ipython3",
   "version": "3.5.4"
  }
 },
 "nbformat": 4,
 "nbformat_minor": 2
}
